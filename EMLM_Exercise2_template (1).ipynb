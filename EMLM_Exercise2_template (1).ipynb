{
 "cells": [
  {
   "cell_type": "markdown",
   "metadata": {},
   "source": [
    "Konsta Nyman <br>\n",
    "523834 <br>\n",
    "January, 29, 2024  <br>"
   ]
  },
  {
   "cell_type": "markdown",
   "metadata": {},
   "source": [
    "# Exercise 2 | TKO_7092 Evaluation of Machine Learning Methods 2024"
   ]
  },
  {
   "cell_type": "markdown",
   "metadata": {},
   "source": [
    "### Prediction of the metal ion content from multi-parameter data\n",
    "<b> Use K-Nearest Neighbor Regression with euclidean distance to predict total metal concentration (c_total), concentration of Cadmium (Cd) and concentration of Lead (Pb), using number of neighbors k = 1, 3, 5, 7.</b> <br>\n",
    "\n",
    "<b> Instructions: </b> \n",
    "\n",
    "    - You may use Nearest Neighbor Regression from https://scikit-learn.org/stable/modules/neighbors.html\n",
    "    - The data should be standarized using z-score (using sklearn.preprocessing.StandardScaler is advised).\n",
    "    - Implement Leave-One-Out cross-validation and calculate the C-index for each output (c_total, Cd, Pb). \n",
    "    - Implement Leave-Replicas-Out cross-validation and calculate the C-index for each output (c_total, Cd, Pb).\n",
    "    - Explain your code by adding detailed comments. \n",
    "    - Only provide code that is relevant to the exercise.\n",
    "    - Please submit your solution as a Jupyter Notebook (.ipynb) and as a PDF file. Ensure to include your full name in the filename.     \n",
    "    - Submit to moodle your solution on ** Wednesday 7 of February ** at the latest.\n",
    "  \n",
    "<b>Please follow the instructions and note that you are expected to submit your individual solution.<br>\n",
    "Identical or overly similar submissions will result in the exercise being marked as failed.\n",
    "</b>"
   ]
  },
  {
   "cell_type": "markdown",
   "metadata": {},
   "source": [
    "## Import libraries"
   ]
  },
  {
   "cell_type": "code",
   "execution_count": 1,
   "metadata": {
    "tags": []
   },
   "outputs": [],
   "source": [
    "# In this cell import all libraries you need. For example: \n",
    "import numpy as np\n",
    "import pandas as pd\n",
    "import matplotlib.pyplot as plt\n",
    "from sklearn.preprocessing import StandardScaler\n",
    "from sklearn.neighbors import KNeighborsRegressor\n",
    "from sklearn.model_selection import LeaveOneOut\n",
    "from sklearn.model_selection import LeaveOneGroupOut\n"
   ]
  },
  {
   "cell_type": "markdown",
   "metadata": {},
   "source": [
    "## Read and visualize the dataset"
   ]
  },
  {
   "cell_type": "code",
   "execution_count": 2,
   "metadata": {
    "tags": []
   },
   "outputs": [
    {
     "name": "stdout",
     "output_type": "stream",
     "text": [
      "The dimensions of the dataset are (268, 6)\n",
      "\n",
      "The first 5 rows of the dataset:\n",
      "\n",
      "    Mod1  Mod2    Mod3  c_total   Cd    Pb\n",
      "0   9945   119   72335        0  0.0   0.0\n",
      "1   9596   119  110542        0  0.0   0.0\n",
      "2  10812   120   98594        0  0.0   0.0\n",
      "3  10786   117   82977        0  0.0   0.0\n",
      "4  10566   108  136416       14  0.0  14.0\n"
     ]
    }
   ],
   "source": [
    "# In this cell read the file Water_data.csv\n",
    "df_water_data = pd.read_csv('water_data.csv')\n",
    "\n",
    "# Print the dataset dimesions (i.e. number of rows and columns)\n",
    "print(f\"The dimensions of the dataset are {df_water_data.shape}\\n\")\n",
    "\n",
    "# Print the first 5 rows of the dataset\n",
    "print(f\"The first 5 rows of the dataset:\\n\\n{df_water_data.head()}\")"
   ]
  },
  {
   "cell_type": "markdown",
   "metadata": {},
   "source": [
    "## Standardization of the dataset"
   ]
  },
  {
   "cell_type": "code",
   "execution_count": 3,
   "metadata": {
    "tags": []
   },
   "outputs": [
    {
     "data": {
      "text/html": [
       "<div>\n",
       "<style scoped>\n",
       "    .dataframe tbody tr th:only-of-type {\n",
       "        vertical-align: middle;\n",
       "    }\n",
       "\n",
       "    .dataframe tbody tr th {\n",
       "        vertical-align: top;\n",
       "    }\n",
       "\n",
       "    .dataframe thead th {\n",
       "        text-align: right;\n",
       "    }\n",
       "</style>\n",
       "<table border=\"1\" class=\"dataframe\">\n",
       "  <thead>\n",
       "    <tr style=\"text-align: right;\">\n",
       "      <th></th>\n",
       "      <th>Mod1</th>\n",
       "      <th>Mod2</th>\n",
       "      <th>Mod3</th>\n",
       "      <th>c_total</th>\n",
       "      <th>Cd</th>\n",
       "      <th>Pb</th>\n",
       "    </tr>\n",
       "  </thead>\n",
       "  <tbody>\n",
       "    <tr>\n",
       "      <th>0</th>\n",
       "      <td>-0.972283</td>\n",
       "      <td>-0.670482</td>\n",
       "      <td>-0.358179</td>\n",
       "      <td>0</td>\n",
       "      <td>0.0</td>\n",
       "      <td>0.0</td>\n",
       "    </tr>\n",
       "    <tr>\n",
       "      <th>1</th>\n",
       "      <td>-0.975878</td>\n",
       "      <td>-0.670482</td>\n",
       "      <td>0.259488</td>\n",
       "      <td>0</td>\n",
       "      <td>0.0</td>\n",
       "      <td>0.0</td>\n",
       "    </tr>\n",
       "    <tr>\n",
       "      <th>2</th>\n",
       "      <td>-0.963351</td>\n",
       "      <td>-0.670394</td>\n",
       "      <td>0.066333</td>\n",
       "      <td>0</td>\n",
       "      <td>0.0</td>\n",
       "      <td>0.0</td>\n",
       "    </tr>\n",
       "    <tr>\n",
       "      <th>3</th>\n",
       "      <td>-0.963619</td>\n",
       "      <td>-0.670657</td>\n",
       "      <td>-0.186137</td>\n",
       "      <td>0</td>\n",
       "      <td>0.0</td>\n",
       "      <td>0.0</td>\n",
       "    </tr>\n",
       "    <tr>\n",
       "      <th>4</th>\n",
       "      <td>-0.965885</td>\n",
       "      <td>-0.671447</td>\n",
       "      <td>0.677776</td>\n",
       "      <td>14</td>\n",
       "      <td>0.0</td>\n",
       "      <td>14.0</td>\n",
       "    </tr>\n",
       "  </tbody>\n",
       "</table>\n",
       "</div>"
      ],
      "text/plain": [
       "       Mod1      Mod2      Mod3  c_total   Cd    Pb\n",
       "0 -0.972283 -0.670482 -0.358179        0  0.0   0.0\n",
       "1 -0.975878 -0.670482  0.259488        0  0.0   0.0\n",
       "2 -0.963351 -0.670394  0.066333        0  0.0   0.0\n",
       "3 -0.963619 -0.670657 -0.186137        0  0.0   0.0\n",
       "4 -0.965885 -0.671447  0.677776       14  0.0  14.0"
      ]
     },
     "execution_count": 3,
     "metadata": {},
     "output_type": "execute_result"
    }
   ],
   "source": [
    "# In this cell, standardize the dataset features by removing the mean and scaling to unit variance. \n",
    "# In other words, use z-score to scale the dataset features (Mod1, Mod2, Mod3)\n",
    "\n",
    "# create varaibles of input and output data column names\n",
    "input_columns = ['Mod1', 'Mod2', 'Mod3']\n",
    "output_columns = ['c_total', 'Cd', 'Pb']\n",
    "\n",
    "scaler = StandardScaler() #create a scaler\n",
    "df_water_data[input_columns] = scaler.fit_transform(df_water_data[input_columns]) #fit and transform the selected columns\n",
    "\n",
    "# Print the 5 first samples (i.e. rows) of the scaled dataset\n",
    "df_water_data.head()"
   ]
  },
  {
   "cell_type": "markdown",
   "metadata": {},
   "source": [
    "## C-index code "
   ]
  },
  {
   "cell_type": "code",
   "execution_count": 4,
   "metadata": {
    "tags": []
   },
   "outputs": [],
   "source": [
    "# In this cell, implement the C-index function. You may use the implementation from the first exercise.\n",
    "def cindex(true_labels, pred_labels):\n",
    "    \"\"\"Returns C-index between true labels and predicted labels\"\"\"\n",
    "    n = 0\n",
    "    h_num = 0 \n",
    "    for i in range(0, len(true_labels)):\n",
    "        t = true_labels[i]\n",
    "        p = pred_labels[i]\n",
    "        for j in range(i+1, len(true_labels)):\n",
    "            nt = true_labels[j]\n",
    "            np = pred_labels[j]\n",
    "            if (t != nt): \n",
    "                n = n + 1\n",
    "                if (p < np and t < nt) or (p > np and t > nt): \n",
    "                    h_num += 1\n",
    "                elif (p == np):\n",
    "                    h_num += 0.5\n",
    "    return h_num/n"
   ]
  },
  {
   "cell_type": "code",
   "execution_count": 5,
   "metadata": {},
   "outputs": [
    {
     "name": "stdout",
     "output_type": "stream",
     "text": [
      "0.75\n"
     ]
    }
   ],
   "source": [
    "# Test the cindex function with following values\n",
    "true_labels = np.array([-1, 1, 1, -1, 1])\n",
    "predictions = np.array([0.60, 0.80, 0.75, 0.75, 0.70])\n",
    "cindx = cindex(true_labels, predictions)\n",
    "print(cindx) #For this example, a correct C-index implementation will result in 0.75"
   ]
  },
  {
   "cell_type": "markdown",
   "metadata": {},
   "source": [
    "## Leave-One-Out cross-validation\n",
    "In the following cell, write and execute your code for Leave-One-Out cross-validation using K-Nearest Neighbor Regression with k values of 1, 3, 5, and 7.<br>\n",
    "Print the corresponding Leave-One-Out C-index for c_total, Cd and Pb for each k value."
   ]
  },
  {
   "cell_type": "code",
   "execution_count": 10,
   "metadata": {},
   "outputs": [
    {
     "data": {
      "text/html": [
       "<div>\n",
       "<style scoped>\n",
       "    .dataframe tbody tr th:only-of-type {\n",
       "        vertical-align: middle;\n",
       "    }\n",
       "\n",
       "    .dataframe tbody tr th {\n",
       "        vertical-align: top;\n",
       "    }\n",
       "\n",
       "    .dataframe thead th {\n",
       "        text-align: right;\n",
       "    }\n",
       "</style>\n",
       "<table border=\"1\" class=\"dataframe\">\n",
       "  <thead>\n",
       "    <tr style=\"text-align: right;\">\n",
       "      <th></th>\n",
       "      <th>c_total</th>\n",
       "      <th>Cd</th>\n",
       "      <th>Pb</th>\n",
       "    </tr>\n",
       "  </thead>\n",
       "  <tbody>\n",
       "    <tr>\n",
       "      <th>1</th>\n",
       "      <td>0.908098</td>\n",
       "      <td>0.913592</td>\n",
       "      <td>0.879590</td>\n",
       "    </tr>\n",
       "    <tr>\n",
       "      <th>3</th>\n",
       "      <td>0.920363</td>\n",
       "      <td>0.912488</td>\n",
       "      <td>0.884710</td>\n",
       "    </tr>\n",
       "    <tr>\n",
       "      <th>5</th>\n",
       "      <td>0.896185</td>\n",
       "      <td>0.866349</td>\n",
       "      <td>0.860935</td>\n",
       "    </tr>\n",
       "    <tr>\n",
       "      <th>7</th>\n",
       "      <td>0.883905</td>\n",
       "      <td>0.831597</td>\n",
       "      <td>0.841043</td>\n",
       "    </tr>\n",
       "  </tbody>\n",
       "</table>\n",
       "</div>"
      ],
      "text/plain": [
       "    c_total        Cd        Pb\n",
       "1  0.908098  0.913592  0.879590\n",
       "3  0.920363  0.912488  0.884710\n",
       "5  0.896185  0.866349  0.860935\n",
       "7  0.883905  0.831597  0.841043"
      ]
     },
     "execution_count": 10,
     "metadata": {},
     "output_type": "execute_result"
    }
   ],
   "source": [
    "# create leave-one-out cross-validator\n",
    "loo = LeaveOneOut()\n",
    "\n",
    "# create list to store values\n",
    "loo_c_index_list = []\n",
    "\n",
    "# loop different k-values\n",
    "\n",
    "for k in [1,3,5,7]:\n",
    "\n",
    "    # create k-NN model with k neighbors\n",
    "    knn_model = KNeighborsRegressor(n_neighbors=k)\n",
    "\n",
    "    # initialize row temp variable\n",
    "    row = []\n",
    "    # loop c_total, Cd, and Pb\n",
    "    for i in output_columns:\n",
    "\n",
    "        # initialize list to store predictions\n",
    "        y_predictions = []\n",
    "\n",
    "        # create variables X and y to simplify cross validation\n",
    "        X = df_water_data[input_columns]\n",
    "        y = df_water_data[i]\n",
    "\n",
    "        # perform cross-validation\n",
    "        for train_index, test_index in loo.split(X):\n",
    "            X_train, X_test = X.iloc[train_index], X.iloc[test_index]\n",
    "            y_train, y_test = y.iloc[train_index], y.iloc[test_index]\n",
    "\n",
    "            # fit k-NN model\n",
    "            knn_model.fit(X_train, y_train)\n",
    "\n",
    "            # make predictions\n",
    "            preds = knn_model.predict(X_test)\n",
    "            y_predictions.append(preds) #append predicted value to list\n",
    "\n",
    "        # evaluate predictions using cindex evaluator\n",
    "        loo_c_index = cindex(y, y_predictions)\n",
    "\n",
    "        # add c-index to row\n",
    "        row.append(loo_c_index)\n",
    "    \n",
    "    # add row to c-index list\n",
    "    loo_c_index_list.append(row)\n",
    "\n",
    "# create a dataframe from the list\n",
    "loo_c_index_df = pd.DataFrame(loo_c_index_list, index=['1', '3', '5', '7'], columns=['c_total', 'Cd', 'Pb'])\n",
    "loo_c_index_df"
   ]
  },
  {
   "cell_type": "markdown",
   "metadata": {},
   "source": [
    "## Leave-Replicas-Out cross-validation"
   ]
  },
  {
   "cell_type": "markdown",
   "metadata": {
    "tags": []
   },
   "source": [
    "In the following cell, write and execute your code for Leave-Replicas-Out cross-validation using K-Nearest Neighbor Regression with k values of 1, 3, 5, and 7.<br>\n",
    "Print the corresponding Leave-Replicas-Out C-index for c_total, Cd and Pb for each k value."
   ]
  },
  {
   "cell_type": "code",
   "execution_count": 11,
   "metadata": {},
   "outputs": [
    {
     "data": {
      "text/html": [
       "<div>\n",
       "<style scoped>\n",
       "    .dataframe tbody tr th:only-of-type {\n",
       "        vertical-align: middle;\n",
       "    }\n",
       "\n",
       "    .dataframe tbody tr th {\n",
       "        vertical-align: top;\n",
       "    }\n",
       "\n",
       "    .dataframe thead th {\n",
       "        text-align: right;\n",
       "    }\n",
       "</style>\n",
       "<table border=\"1\" class=\"dataframe\">\n",
       "  <thead>\n",
       "    <tr style=\"text-align: right;\">\n",
       "      <th></th>\n",
       "      <th>c_total</th>\n",
       "      <th>Cd</th>\n",
       "      <th>Pb</th>\n",
       "    </tr>\n",
       "  </thead>\n",
       "  <tbody>\n",
       "    <tr>\n",
       "      <th>1</th>\n",
       "      <td>0.823848</td>\n",
       "      <td>0.752545</td>\n",
       "      <td>0.736008</td>\n",
       "    </tr>\n",
       "    <tr>\n",
       "      <th>3</th>\n",
       "      <td>0.823115</td>\n",
       "      <td>0.753546</td>\n",
       "      <td>0.762859</td>\n",
       "    </tr>\n",
       "    <tr>\n",
       "      <th>5</th>\n",
       "      <td>0.816074</td>\n",
       "      <td>0.733330</td>\n",
       "      <td>0.748131</td>\n",
       "    </tr>\n",
       "    <tr>\n",
       "      <th>7</th>\n",
       "      <td>0.819694</td>\n",
       "      <td>0.742452</td>\n",
       "      <td>0.749941</td>\n",
       "    </tr>\n",
       "  </tbody>\n",
       "</table>\n",
       "</div>"
      ],
      "text/plain": [
       "    c_total        Cd        Pb\n",
       "1  0.823848  0.752545  0.736008\n",
       "3  0.823115  0.753546  0.762859\n",
       "5  0.816074  0.733330  0.748131\n",
       "7  0.819694  0.742452  0.749941"
      ]
     },
     "execution_count": 11,
     "metadata": {},
     "output_type": "execute_result"
    }
   ],
   "source": [
    "# create leave-replicas-out cross-validator\n",
    "logo = LeaveOneGroupOut()\n",
    "groups = np.repeat(range(0, int(len(X)/4)), 4)\n",
    "\n",
    "# create list to store values\n",
    "lro_c_index_list = []\n",
    "\n",
    "# loop different k-values\n",
    "\n",
    "for k in [1,3,5,7]:\n",
    "\n",
    "    # create k-NN model with k neighbors\n",
    "    knn_model = KNeighborsRegressor(n_neighbors=k)\n",
    "\n",
    "    # create temp variable row\n",
    "    row = []\n",
    "    \n",
    "    # loop c_total, Cd, and Pb\n",
    "    for i in output_columns:\n",
    "\n",
    "        # initialize list to store predictions\n",
    "        y_predictions = []\n",
    "\n",
    "        # create variables X and y to simplify cross validation\n",
    "        X = df_water_data[input_columns]\n",
    "        y = df_water_data[i]\n",
    "\n",
    "        # perform cross-validation\n",
    "        for train_index, test_index in logo.split(X, y, groups):\n",
    "            X_train, X_test = X.iloc[train_index], X.iloc[test_index]\n",
    "            y_train, y_test = y.iloc[train_index], y.iloc[test_index]\n",
    "\n",
    "            # fit k-NN model\n",
    "            knn_model.fit(X_train, y_train)\n",
    "\n",
    "            # make predictions\n",
    "            preds = knn_model.predict(X_test)\n",
    "            y_predictions.extend(preds) #add all new predictions to the list\n",
    "\n",
    "        # evaluate predictions using cindex evaluator\n",
    "        logo_c_index = cindex(y, y_predictions)\n",
    "\n",
    "        # add c-index to row\n",
    "        row.append(logo_c_index)\n",
    "    \n",
    "    # add row to c-index list\n",
    "    lro_c_index_list.append(row)\n",
    "\n",
    "# create a dataframe from the list\n",
    "lro_c_index_df = pd.DataFrame(lro_c_index_list, index=['1', '3', '5', '7'], columns=['c_total', 'Cd', 'Pb'])\n",
    "lro_c_index_df"
   ]
  },
  {
   "cell_type": "markdown",
   "metadata": {
    "tags": []
   },
   "source": [
    "## Plot Leave-One-Out and Leave-Replicas-Out Results"
   ]
  },
  {
   "cell_type": "markdown",
   "metadata": {
    "tags": []
   },
   "source": [
    "Note: You may plot the results as they were presented in the video lecture (refer to MOOC2-Module 2 .pptx slides)."
   ]
  },
  {
   "cell_type": "code",
   "execution_count": 29,
   "metadata": {},
   "outputs": [
    {
     "data": {
      "image/png": "[encoded data removed]",
      "text/plain": [
       "<Figure size 1200x400 with 3 Axes>"
      ]
     },
     "metadata": {},
     "output_type": "display_data"
    }
   ],
   "source": [
    "fig, axes = plt.subplots(1, 3, figsize=(12, 4))\n",
    "\n",
    "for i in range(3):\n",
    "    axes[i].plot(loo_c_index_df.iloc[:,i], label='Leave-One-Out')\n",
    "    axes[i].plot(lro_c_index_df.iloc[:,i], label='Leave-Replicas-Out')\n",
    "    axes[i].set_title(output_columns[i])\n",
    "\n",
    "fig.suptitle(\"C-indexes of K-Nearest Neighbors regression model using cross-validation\")\n",
    "handles, labels = axes[0].get_legend_handles_labels()\n",
    "fig.legend(handles, labels, loc='upper right')\n",
    "plt.tight_layout()"
   ]
  },
  {
   "cell_type": "markdown",
   "metadata": {},
   "source": [
    "## Interpretation of results\n",
    "#### Answer the following questions based on the results obtained\n",
    "- Which cross-validation method had more optimistic results? \n",
    "- Explain the reason for the optimistic results produced by the cross-validation method.\n",
    "- Which cross-validation method generalized better on unseen data? Why?"
   ]
  },
  {
   "cell_type": "markdown",
   "metadata": {},
   "source": [
    "Leave-One-Out cross-validation has significantly more optimistic results.\n",
    "\n",
    "Leave-one-out cross-validation produces optimistic results because of the non-independent replicas in the data. Leave-one-out cross-validation uses only one instance as a test set at the time, so the training set contains three replicas of the test set instance which skews the results in the optimistic direction. The training set can 'see' three very similar data points as the test set so it can predict the value very well. This is also why we can see that when leave-one-out method uses more than three neighbours, the results deteriorate.\n",
    "\n",
    "However, the results are optimistically biased because of the replicas. This is why leave-replicas-out generalizes better on unseen data. Leave-replicas-out takes all the replicas in the test set and cannot see any replicas of the test set in the training set and therefore generalizes better on unseen data."
   ]
  }
 ],
 "metadata": {
  "kernelspec": {
   "display_name": "Python 3 (ipykernel)",
   "language": "python",
   "name": "python3"
  },
  "language_info": {
   "codemirror_mode": {
    "name": "ipython",
    "version": 3
   },
   "file_extension": ".py",
   "mimetype": "text/x-python",
   "name": "python",
   "nbconvert_exporter": "python",
   "pygments_lexer": "ipython3",
   "version": "3.10.2"
  },
  "toc": {
   "base_numbering": 1,
   "nav_menu": {},
   "number_sections": false,
   "sideBar": true,
   "skip_h1_title": false,
   "title_cell": "Table of Contents",
   "title_sidebar": "Contents",
   "toc_cell": false,
   "toc_position": {},
   "toc_section_display": true,
   "toc_window_display": true
  },
  "varInspector": {
   "cols": {
    "lenName": 16,
    "lenType": 16,
    "lenVar": 40
   },
   "kernels_config": {
    "python": {
     "delete_cmd_postfix": "",
     "delete_cmd_prefix": "del ",
     "library": "var_list.py",
     "varRefreshCmd": "print(var_dic_list())"
    },
    "r": {
     "delete_cmd_postfix": ") ",
     "delete_cmd_prefix": "rm(",
     "library": "var_list.r",
     "varRefreshCmd": "cat(var_dic_list()) "
    }
   },
   "types_to_exclude": [
    "module",
    "function",
    "builtin_function_or_method",
    "instance",
    "_Feature"
   ],
   "window_display": false
  }
 },
 "nbformat": 4,
 "nbformat_minor": 4
}
